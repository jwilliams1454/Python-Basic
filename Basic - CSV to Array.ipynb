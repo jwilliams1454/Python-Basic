{
 "cells": [
  {
   "cell_type": "code",
   "execution_count": 6,
   "metadata": {},
   "outputs": [
    {
     "name": "stdout",
     "output_type": "stream",
     "text": [
      "C:\\Users\\jwill\\Documents\\Machine Learning\\Data\n"
     ]
    }
   ],
   "source": [
    "from sklearn.svm import SVC\n",
    "import numpy as np\n",
    "import pandas as pd\n",
    "from sklearn import svm, datasets\n",
    "%cd \"C:\\Users\\jwill\\Documents\\Machine Learning\\Data\""
   ]
  },
  {
   "cell_type": "code",
   "execution_count": 7,
   "metadata": {},
   "outputs": [
    {
     "name": "stdout",
     "output_type": "stream",
     "text": [
      "[['Age', 'TS'], ['48', '7.8'], ['56', '10.9'], ['61', '20.9'], ['41', '22.5'], ['34', '22.3'], ['48', '34.4'], ['41', '19.2'], ['41', '37.4'], ['48', '46.6'], ['30', '47'], ['23', '63.3'], ['25', '63.6'], ['21', '56.6'], ['21', '79.6'], ['30', '57.3'], ['19', '82.7'], ['28', '71.4'], ['31', '58.4'], ['36', '70'], ['28', '67.1'], ['27', '97.5']]\n"
     ]
    }
   ],
   "source": [
    "# csv to array\n",
    "import csv\n",
    "\n",
    "with open('phleb1.csv', newline='') as csvfile:\n",
    "    data = list(csv.reader(csvfile))\n",
    "\n",
    "print(data)"
   ]
  },
  {
   "cell_type": "code",
   "execution_count": null,
   "metadata": {},
   "outputs": [],
   "source": []
  }
 ],
 "metadata": {
  "kernelspec": {
   "display_name": "Python 3",
   "language": "python",
   "name": "python3"
  },
  "language_info": {
   "codemirror_mode": {
    "name": "ipython",
    "version": 3
   },
   "file_extension": ".py",
   "mimetype": "text/x-python",
   "name": "python",
   "nbconvert_exporter": "python",
   "pygments_lexer": "ipython3",
   "version": "3.8.5"
  }
 },
 "nbformat": 4,
 "nbformat_minor": 4
}
