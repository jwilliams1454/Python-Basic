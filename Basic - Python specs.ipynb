{
 "cells": [
  {
   "cell_type": "code",
   "execution_count": 25,
   "metadata": {},
   "outputs": [],
   "source": [
    "# Warning control\n",
    "import warnings\n",
    "warnings.filterwarnings('ignore')"
   ]
  },
  {
   "cell_type": "code",
   "execution_count": 32,
   "metadata": {},
   "outputs": [
    {
     "name": "stdout",
     "output_type": "stream",
     "text": [
      "Python Version:\n",
      "3.8.5 (default, Sep  3 2020, 21:29:08) [MSC v.1916 64 bit (AMD64)]\n",
      "\n",
      "Python Install Directory:\n",
      "C:\\Users\\jwill\\anaconda3\n",
      "\n",
      "PATH Environment Variable:\n",
      "C:\\Users\\jwill\\anaconda3;C:\\Users\\jwill\\anaconda3\\Library\\mingw-w64\\bin;C:\\Users\\jwill\\anaconda3\\Library\\usr\\bin;C:\\Users\\jwill\\anaconda3\\Library\\bin;C:\\Users\\jwill\\anaconda3\\Scripts;C:\\Users\\jwill\\anaconda3\\bin;C:\\Users\\jwill\\anaconda3\\condabin;C:\\Users\\jwill\\anaconda3;C:\\Users\\jwill\\anaconda3\\Library\\mingw-w64\\bin;C:\\Users\\jwill\\anaconda3\\Library\\usr\\bin;C:\\Users\\jwill\\anaconda3\\Library\\bin;C:\\Users\\jwill\\anaconda3\\Scripts;C:\\WINDOWS\\system32;C:\\WINDOWS;C:\\WINDOWS\\System32\\Wbem;C:\\WINDOWS\\System32\\WindowsPowerShell\\v1.0;C:\\WINDOWS\\System32\\OpenSSH;C:\\Program Files (x86)\\QuickTime\\QTSystem;C:\\Program Files\\Graphviz\\bin;C:\\Users\\jwill\\AppData\\Local\\Microsoft\\WindowsApps;.\n",
      "\n",
      "PYTHONPATH Environment Variable:\n",
      "Not Set\n",
      "\n",
      "PYTHONHOME Environment Variable:\n",
      "Not Set\n",
      "\n",
      "OpenAI Module Version:\n",
      "0.28.1\n",
      "\n",
      "OpenAI Module Location:\n",
      "C:\\Users\\jwill\\anaconda3\\lib\\site-packages\\openai\\__init__.py\n",
      "\n"
     ]
    }
   ],
   "source": [
    "import sys\n",
    "import importlib.util\n",
    "import os\n",
    "\n",
    "def print_python_info():\n",
    "    # Print Python version\n",
    "    print(\"Python Version:\")\n",
    "    print(sys.version)\n",
    "    print(\"\")\n",
    "\n",
    "    # Print Python Install Directory\n",
    "    print(\"Python Install Directory:\")\n",
    "    print(sys.prefix)\n",
    "    print(\"\")\n",
    "\n",
    "    # Print the PATH environment variable\n",
    "    print(\"PATH Environment Variable:\")\n",
    "    print(os.getenv(\"PATH\"))\n",
    "    print(\"\")\n",
    "\n",
    "    # Print PYTHONPATH if it's set\n",
    "    print(\"PYTHONPATH Environment Variable:\")\n",
    "    pythonpath = os.getenv(\"PYTHONPATH\")\n",
    "    if pythonpath:\n",
    "        print(pythonpath)\n",
    "    else:\n",
    "        print(\"Not Set\")\n",
    "    print(\"\")\n",
    "\n",
    "    # Print PYTHONHOME if it's set\n",
    "    print(\"PYTHONHOME Environment Variable:\")\n",
    "    pythonhome = os.getenv(\"PYTHONHOME\")\n",
    "    if pythonhome:\n",
    "        print(pythonhome)\n",
    "    else:\n",
    "        print(\"Not Set\")\n",
    "    print(\"\")\n",
    "\n",
    "    # Attempt to import the 'openai' module and print its version and file location\n",
    "    try:\n",
    "        # Importing the openai module\n",
    "        import openai\n",
    "        \n",
    "        # Print openai module version if available\n",
    "        print(\"OpenAI Module Version:\")\n",
    "        if hasattr(openai, '__version__'):\n",
    "            print(openai.__version__)\n",
    "        else:\n",
    "            print(\"Version not specified\")\n",
    "        print(\"\")\n",
    "\n",
    "        # Print location of the openai module\n",
    "        print(\"OpenAI Module Location:\")\n",
    "        print(importlib.util.find_spec(\"openai\").origin)\n",
    "        print(\"\")\n",
    "    \n",
    "    except ImportError:\n",
    "        print(\"OpenAI module is not installed\")\n",
    "        print(\"\")\n",
    "\n",
    "if __name__ == \"__main__\":\n",
    "    print_python_info()"
   ]
  },
  {
   "cell_type": "code",
   "execution_count": null,
   "metadata": {},
   "outputs": [],
   "source": []
  }
 ],
 "metadata": {
  "kernelspec": {
   "display_name": "Python 3",
   "language": "python",
   "name": "python3"
  },
  "language_info": {
   "codemirror_mode": {
    "name": "ipython",
    "version": 3
   },
   "file_extension": ".py",
   "mimetype": "text/x-python",
   "name": "python",
   "nbconvert_exporter": "python",
   "pygments_lexer": "ipython3",
   "version": "3.8.5"
  }
 },
 "nbformat": 4,
 "nbformat_minor": 4
}
