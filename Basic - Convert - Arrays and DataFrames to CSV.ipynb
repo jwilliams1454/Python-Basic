{
 "cells": [
  {
   "cell_type": "code",
   "execution_count": 2,
   "metadata": {},
   "outputs": [
    {
     "name": "stdout",
     "output_type": "stream",
     "text": [
      "C:\\Users\\jwill\\Documents\\Machine Learning\\Data\n"
     ]
    }
   ],
   "source": [
    "#1. Create array, convert to df, save as csv file\n",
    "\n",
    "# import necessary libraries\n",
    "import pandas as pd\n",
    "import numpy as np\n",
    "%cd \"C:\\Users\\jwill\\Documents\\Machine Learning\\Data\""
   ]
  },
  {
   "cell_type": "code",
   "execution_count": 4,
   "metadata": {},
   "outputs": [
    {
     "name": "stdout",
     "output_type": "stream",
     "text": [
      "[[ 1  2  3  4  5]\n",
      " [ 6  7  8  9 10]]\n"
     ]
    }
   ],
   "source": [
    "# create a dummy array\n",
    "arr = np.arange(1,11).reshape(2,5)\n",
    "  \n",
    "# display the array\n",
    "print(arr)"
   ]
  },
  {
   "cell_type": "code",
   "execution_count": 5,
   "metadata": {},
   "outputs": [],
   "source": [
    "# convert array into dataframe\n",
    "DF = pd.DataFrame(arr)\n",
    "  \n",
    "# save the dataframe as a csv file with index\n",
    "DF.to_csv(\"data1.csv\")"
   ]
  },
  {
   "cell_type": "code",
   "execution_count": 6,
   "metadata": {},
   "outputs": [],
   "source": [
    "#2. Save dataframe as csv file\n",
    "\n",
    "#Save dataframes as csv files without index\n",
    "import numpy as np\n",
    "DF.to_csv(r'data2.csv', index = False)"
   ]
  },
  {
   "cell_type": "code",
   "execution_count": 8,
   "metadata": {},
   "outputs": [],
   "source": [
    "#3. Save array as csv file\n",
    "\n",
    "#Save array as csv files\n",
    "import numpy as np\n",
    "a = np.asarray([ [1,2,3], [4,5,6], [7,8,9] ])\n",
    "a.tofile('data3.csv',sep=',',format='%10.5f')"
   ]
  },
  {
   "cell_type": "code",
   "execution_count": null,
   "metadata": {},
   "outputs": [],
   "source": []
  }
 ],
 "metadata": {
  "kernelspec": {
   "display_name": "Python 3",
   "language": "python",
   "name": "python3"
  },
  "language_info": {
   "codemirror_mode": {
    "name": "ipython",
    "version": 3
   },
   "file_extension": ".py",
   "mimetype": "text/x-python",
   "name": "python",
   "nbconvert_exporter": "python",
   "pygments_lexer": "ipython3",
   "version": "3.8.5"
  }
 },
 "nbformat": 4,
 "nbformat_minor": 4
}
